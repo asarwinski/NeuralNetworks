{
 "metadata": {
  "language_info": {
   "codemirror_mode": {
    "name": "ipython",
    "version": 3
   },
   "file_extension": ".py",
   "mimetype": "text/x-python",
   "name": "python",
   "nbconvert_exporter": "python",
   "pygments_lexer": "ipython3",
   "version": "3.8.4-final"
  },
  "orig_nbformat": 2,
  "kernelspec": {
   "name": "python38464bitvenvvenv2110f9431e5d4fb88840d239d72385ed",
   "display_name": "Python 3.8.4 64-bit ('venv': venv)"
  }
 },
 "nbformat": 4,
 "nbformat_minor": 2,
 "cells": [
  {
   "cell_type": "code",
   "execution_count": 26,
   "metadata": {},
   "outputs": [],
   "source": [
    "import tensorflow as tf\n",
    "import numpy as np\n",
    "import matplotlib.pyplot as plt"
   ]
  },
  {
   "cell_type": "code",
   "execution_count": 133,
   "metadata": {},
   "outputs": [],
   "source": [
    "layer_names = ['dense', 'dense', 'dense', 'softmax']\n",
    "hidden_units = [16, 8, 8, 10]\n",
    "input_size = 784\n",
    "hidden_units.insert(0, input_size)\n",
    "\n",
    "learning_rate = 0.001\n",
    "keep_prob = 0.2"
   ]
  },
  {
   "cell_type": "code",
   "execution_count": 113,
   "metadata": {},
   "outputs": [],
   "source": [
    "class Dense:\n",
    "    def __init__(self, units, input_size, activation, name):\n",
    "        self.W = tf.Variable(tf.random.normal([units, input_size]) * tf.math.sqrt(1/input_size), name=(name + '_W'))\n",
    "        self.b = tf.Variable(tf.zeros([units,1]), name=(name + '_b'))\n",
    "        self.activation = activation\n",
    "\n",
    "    def forward(self, X, training):\n",
    "        Z = tf.linalg.matmul(self.W,X) + self.b\n",
    "        A = self.activation(Z)\n",
    "        return A\n",
    "\n",
    "    def get_vars(self):\n",
    "        return [self.W, self.b]"
   ]
  },
  {
   "cell_type": "code",
   "execution_count": 114,
   "metadata": {},
   "outputs": [],
   "source": [
    "class Batch_norm:\n",
    "    def __init__(self, units, input_size, activation, name):\n",
    "        self.W = tf.Variable(tf.random.normal([units, input_size]) * tf.math.sqrt(1/input_size), name=(name + '_W')) \n",
    "        self.activation = activation\n",
    "\n",
    "        self.gamma = tf.Variable(tf.ones([units, 1]), name=(name + '_gamma'))\n",
    "        self.beta = tf.Variable(tf.ones([units, 1]), name=(name + '_beta'))\n",
    "        self.mu_test = 0\n",
    "        self.sigma_test = 1\n",
    "\n",
    "    def forward(self, X, training):\n",
    "        e = 10**-8\n",
    "\n",
    "        Z = tf.linalg.matmul(self.W,X)\n",
    "\n",
    "        if training:\n",
    "            mu = tf.math.reduce_mean(Z, axis=1, keepdims=True)\n",
    "            sigma = tf.math.reduce_variance(Z - mu, axis=1, keepdims=True)\n",
    "            sigma = tf.math.sqrt(sigma + e)\n",
    "            \n",
    "            self.mu_test = 0.95*self.mu_test + 0.05*mu\n",
    "            self.sigma_test = 0.95*self.sigma_test + 0.05*sigma\n",
    "        else:\n",
    "            mu = self.mu_test\n",
    "            sigma = self.sigma_test\n",
    "\n",
    "        Z = (Z - mu) / sigma\n",
    "        Z = self.gamma * Z + self.beta\n",
    "\n",
    "        A = self.activation(Z)\n",
    "        return A\n",
    "\n",
    "    def get_vars(self):\n",
    "        return [self.W, self.gamma, self.beta]"
   ]
  },
  {
   "cell_type": "code",
   "execution_count": 115,
   "metadata": {},
   "outputs": [],
   "source": [
    "class Dropout:\n",
    "    def __init__(self, keep_prob):\n",
    "        self.keep_prob = keep_prob\n",
    "\n",
    "    def forward(self, X, training):\n",
    "        if not training:\n",
    "            return X\n",
    "\n",
    "        D = tf.random.uniform([]) < self.keep_prob\n",
    "        D = tf.cast(D, dtype=tf.float32)\n",
    "        X = X * D\n",
    "        X = X / keep_prob\n",
    "        return X\n",
    "\n",
    "    def get_vars(self):\n",
    "        return None"
   ]
  },
  {
   "cell_type": "code",
   "execution_count": 118,
   "metadata": {},
   "outputs": [],
   "source": [
    "class Softmax:\n",
    "    def __init__(self, classes, input_size, name):\n",
    "        self.classes = classes\n",
    "\n",
    "        self.W = tf.Variable(tf.random.normal([classes, input_size]) * tf.math.sqrt(1/input_size), name=(name + '_W'))\n",
    "        self.b = tf.Variable(tf.zeros([classes,1]), name=(name + '_b'))\n",
    "\n",
    "    def forward(self, X, training):\n",
    "        Z = tf.linalg.matmul(self.W,X) + self.b\n",
    "\n",
    "        T = tf.math.exp(Z)\n",
    "        A = T / tf.math.reduce_sum(T)\n",
    "        return A\n",
    "\n",
    "    def get_vars(self):\n",
    "        return [self.W, self.b]"
   ]
  },
  {
   "cell_type": "code",
   "execution_count": 92,
   "metadata": {},
   "outputs": [],
   "source": [
    "def Loss(A, Y):\n",
    "    loss = tf.math.log(A)\n",
    "    loss = A * Y\n",
    "    loss = -tf.math.reduce_sum(loss)\n",
    "    return loss"
   ]
  },
  {
   "cell_type": "code",
   "execution_count": 97,
   "metadata": {},
   "outputs": [],
   "source": [
    "def Cost(A, Y):\n",
    "    m = tf.shape(A)[1]\n",
    "    m = tf.cast(m, tf.float32)\n",
    "    losses = Loss(A, Y)\n",
    "    losses = tf.reduce_sum(losses)\n",
    "    return losses / m"
   ]
  },
  {
   "cell_type": "code",
   "execution_count": 34,
   "metadata": {},
   "outputs": [],
   "source": [
    "def forward_pass(X, layers, training):\n",
    "    for layer in layers:\n",
    "        X = layer.forward(X, training)\n",
    "    return X"
   ]
  },
  {
   "cell_type": "code",
   "execution_count": 35,
   "metadata": {},
   "outputs": [],
   "source": [
    "def get_vars(layers):\n",
    "    var = []\n",
    "    for layer in layers:\n",
    "        x = layer.get_vars()\n",
    "        if x != None:\n",
    "            var += x\n",
    "    return var"
   ]
  },
  {
   "cell_type": "code",
   "execution_count": 101,
   "metadata": {},
   "outputs": [],
   "source": [
    "@tf.function\n",
    "def training_step(X, Y, layers, learning_rate):\n",
    "    with tf.GradientTape() as tape:\n",
    "        var = get_vars(layers)\n",
    "        tape.watch(var)\n",
    "        A = forward_pass(X, layers, training=True)\n",
    "        cost = Cost(A, Y)\n",
    "    grads = tape.gradient(cost, var)\n",
    "    for i in range(len(grads)):\n",
    "        grad = -(grads[i] * learning_rate)\n",
    "        var[i].assign_add(grad)\n",
    "    return cost"
   ]
  },
  {
   "cell_type": "code",
   "execution_count": 37,
   "metadata": {},
   "outputs": [],
   "source": [
    "def create_layers():\n",
    "    layers = []\n",
    "    i = 1\n",
    "    for layer_name in layer_names:\n",
    "        if layer_name == 'dense':\n",
    "            layer = Dense(hidden_units[i], hidden_units[i-1], tf.nn.relu, 'Dense' + str(i+1))\n",
    "            layers.append(layer)\n",
    "            i += 1\n",
    "\n",
    "        elif layer_name == 'batch_norm':\n",
    "            layer = Batch_norm(hidden_units[i], hidden_units[i-1], tf.nn.relu, 'Batch_norm' + str(i+1))\n",
    "            layers.append(layer)\n",
    "            i += 1\n",
    "\n",
    "        elif layer_name == 'dropout':\n",
    "            layer = Dropout(keep_prob)\n",
    "            layers.append(layer)\n",
    "\n",
    "        elif layer_name == 'softmax':  \n",
    "            layer = Softmax(hidden_units[i], hidden_units[i-1], 'Dense' + str(i+1))\n",
    "            layers.append(layer)\n",
    "            i += 1\n",
    "\n",
    "    return layers"
   ]
  },
  {
   "cell_type": "code",
   "execution_count": 121,
   "metadata": {
    "tags": []
   },
   "outputs": [],
   "source": [
    "(x_train, y_train), (x_test, y_test) = tf.keras.datasets.mnist.load_data()\n",
    "x_train = x_train / 255\n",
    "x_test = x_test / 255\n",
    "y_train = tf.one_hot(y_train, depth=10, axis=0)\n",
    "y_test = tf.one_hot(y_test, depth=10, axis=0)\n",
    "x_train = x_train[:10000]\n",
    "y_train = y_train[:,:10000]\n",
    "\n",
    "x_train = tf.reshape(x_train, [784, -1])\n",
    "x_train = tf.cast(x_train, tf.float32)"
   ]
  },
  {
   "cell_type": "code",
   "execution_count": 135,
   "metadata": {
    "tags": []
   },
   "outputs": [
    {
     "output_type": "stream",
     "name": "stdout",
     "text": "Epoch 1: -1.0024353287008125e-05\nEpoch 11: -1.0024353287008125e-05\nEpoch 21: -1.0024353287008125e-05\nEpoch 31: -1.0024353287008125e-05\nEpoch 41: -1.0024353287008125e-05\nEpoch 51: -1.0024353287008125e-05\nEpoch 61: -1.0024353287008125e-05\nEpoch 71: -1.0024353287008125e-05\nEpoch 81: -1.0024353287008125e-05\nEpoch 91: -1.0024353287008125e-05\nEpoch 101: -1.0024353287008125e-05\nEpoch 111: -1.0024353287008125e-05\nEpoch 121: -1.0024353287008125e-05\nEpoch 131: -1.0024353287008125e-05\nEpoch 141: -1.0024353287008125e-05\nEpoch 151: -1.0024353287008125e-05\nEpoch 161: -1.0024353287008125e-05\nEpoch 171: -1.0024353287008125e-05\nEpoch 181: -1.0024353287008125e-05\nEpoch 191: -1.0024353287008125e-05\nEpoch 201: -1.0024353287008125e-05\nEpoch 211: -1.0024353287008125e-05\nEpoch 221: -1.0024353287008125e-05\nEpoch 231: -1.0024353287008125e-05\nEpoch 241: -1.0024353287008125e-05\nEpoch 251: -1.0024353287008125e-05\nEpoch 261: -1.0024353287008125e-05\nEpoch 271: -1.0024353287008125e-05\nEpoch 281: -1.0024353287008125e-05\nEpoch 291: -1.0024353287008125e-05\nEpoch 301: -1.0024353287008125e-05\nEpoch 311: -1.0024353287008125e-05\nEpoch 321: -1.0024353287008125e-05\nEpoch 331: -1.0024353287008125e-05\nEpoch 341: -1.0024353287008125e-05\nEpoch 351: -1.0024353287008125e-05\nEpoch 361: -1.0024353287008125e-05\nEpoch 371: -1.0024353287008125e-05\nEpoch 381: -1.0024353287008125e-05\nEpoch 391: -1.0024353287008125e-05\nEpoch 401: -1.0024353287008125e-05\nEpoch 411: -1.0024353287008125e-05\nEpoch 421: -1.0024353287008125e-05\nEpoch 431: -1.0024353287008125e-05\nEpoch 441: -1.0024353287008125e-05\nEpoch 451: -1.0024353287008125e-05\nEpoch 461: -1.0024353287008125e-05\nEpoch 471: -1.0024353287008125e-05\nEpoch 481: -1.0024353287008125e-05\nEpoch 491: -1.0024353287008125e-05\nEpoch 501: -1.0024353287008125e-05\nEpoch 511: -1.0024353287008125e-05\nEpoch 521: -1.0024353287008125e-05\nEpoch 531: -1.0024352377513424e-05\nEpoch 541: -1.0024352377513424e-05\nEpoch 551: -1.0024352377513424e-05\nEpoch 561: -1.0024352377513424e-05\nEpoch 571: -1.0024352377513424e-05\nEpoch 581: -1.0024353287008125e-05\nEpoch 591: -1.0024353287008125e-05\nEpoch 601: -1.0024353287008125e-05\nEpoch 611: -1.0024353287008125e-05\nEpoch 621: -1.0024353287008125e-05\nEpoch 631: -1.0024353287008125e-05\nEpoch 641: -1.0024353287008125e-05\nEpoch 651: -1.0024353287008125e-05\nEpoch 661: -1.0024353287008125e-05\nEpoch 671: -1.0024353287008125e-05\nEpoch 681: -1.0024353287008125e-05\nEpoch 691: -1.0024352377513424e-05\nEpoch 701: -1.0024352377513424e-05\nEpoch 711: -1.0024352377513424e-05\nEpoch 721: -1.0024352377513424e-05\nEpoch 731: -1.0024352377513424e-05\nEpoch 741: -1.0024352377513424e-05\nEpoch 751: -1.0024352377513424e-05\nEpoch 761: -1.0024352377513424e-05\nEpoch 771: -1.0024352377513424e-05\nEpoch 781: -1.0024352377513424e-05\nEpoch 791: -1.0024352377513424e-05\nEpoch 801: -1.0024353287008125e-05\nEpoch 811: -1.0024353287008125e-05\nEpoch 821: -1.0024353287008125e-05\nEpoch 831: -1.0024353287008125e-05\nEpoch 841: -1.0024353287008125e-05\nEpoch 851: -1.0024353287008125e-05\nEpoch 861: -1.0024353287008125e-05\nEpoch 871: -1.0024353287008125e-05\nEpoch 881: -1.0024352377513424e-05\nEpoch 891: -1.0024352377513424e-05\nEpoch 901: -1.0024352377513424e-05\nEpoch 911: -1.0024352377513424e-05\nEpoch 921: -1.0024352377513424e-05\nEpoch 931: -1.0024352377513424e-05\nEpoch 941: -1.0024352377513424e-05\nEpoch 951: -1.0024352377513424e-05\nEpoch 961: -1.0024352377513424e-05\nEpoch 971: -1.0024352377513424e-05\nEpoch 981: -1.0024352377513424e-05\nEpoch 991: -1.0024352377513424e-05\n"
    },
    {
     "output_type": "display_data",
     "data": {
      "text/plain": "<Figure size 432x288 with 1 Axes>",
      "image/svg+xml": "<?xml version=\"1.0\" encoding=\"utf-8\" standalone=\"no\"?>\r\n<!DOCTYPE svg PUBLIC \"-//W3C//DTD SVG 1.1//EN\"\r\n  \"http://www.w3.org/Graphics/SVG/1.1/DTD/svg11.dtd\">\r\n<!-- Created with matplotlib (https://matplotlib.org/) -->\r\n<svg height=\"259.116562pt\" version=\"1.1\" viewBox=\"0 0 380.482812 259.116562\" width=\"380.482812pt\" xmlns=\"http://www.w3.org/2000/svg\" xmlns:xlink=\"http://www.w3.org/1999/xlink\">\r\n <metadata>\r\n  <rdf:RDF xmlns:cc=\"http://creativecommons.org/ns#\" xmlns:dc=\"http://purl.org/dc/elements/1.1/\" xmlns:rdf=\"http://www.w3.org/1999/02/22-rdf-syntax-ns#\">\r\n   <cc:Work>\r\n    <dc:type rdf:resource=\"http://purl.org/dc/dcmitype/StillImage\"/>\r\n    <dc:date>2020-07-26T00:31:22.885900</dc:date>\r\n    <dc:format>image/svg+xml</dc:format>\r\n    <dc:creator>\r\n     <cc:Agent>\r\n      <dc:title>Matplotlib v3.3.0, https://matplotlib.org/</dc:title>\r\n     </cc:Agent>\r\n    </dc:creator>\r\n   </cc:Work>\r\n  </rdf:RDF>\r\n </metadata>\r\n <defs>\r\n  <style type=\"text/css\">*{stroke-linecap:butt;stroke-linejoin:round;}</style>\r\n </defs>\r\n <g id=\"figure_1\">\r\n  <g id=\"patch_1\">\r\n   <path d=\"M -0 259.116562 \r\nL 380.482812 259.116562 \r\nL 380.482812 0 \r\nL -0 0 \r\nz\r\n\" style=\"fill:none;\"/>\r\n  </g>\r\n  <g id=\"axes_1\">\r\n   <g id=\"patch_2\">\r\n    <path d=\"M 38.482813 235.238437 \r\nL 373.282813 235.238437 \r\nL 373.282813 17.798437 \r\nL 38.482813 17.798437 \r\nz\r\n\" style=\"fill:#ffffff;\"/>\r\n   </g>\r\n   <g id=\"matplotlib.axis_1\">\r\n    <g id=\"xtick_1\">\r\n     <g id=\"line2d_1\">\r\n      <defs>\r\n       <path d=\"M 0 0 \r\nL 0 3.5 \r\n\" id=\"m521e1a2f8b\" style=\"stroke:#000000;stroke-width:0.8;\"/>\r\n      </defs>\r\n      <g>\r\n       <use style=\"stroke:#000000;stroke-width:0.8;\" x=\"53.700994\" xlink:href=\"#m521e1a2f8b\" y=\"235.238437\"/>\r\n      </g>\r\n     </g>\r\n     <g id=\"text_1\">\r\n      <!-- 0 -->\r\n      <g transform=\"translate(50.519744 249.836875)scale(0.1 -0.1)\">\r\n       <defs>\r\n        <path d=\"M 31.78125 66.40625 \r\nQ 24.171875 66.40625 20.328125 58.90625 \r\nQ 16.5 51.421875 16.5 36.375 \r\nQ 16.5 21.390625 20.328125 13.890625 \r\nQ 24.171875 6.390625 31.78125 6.390625 \r\nQ 39.453125 6.390625 43.28125 13.890625 \r\nQ 47.125 21.390625 47.125 36.375 \r\nQ 47.125 51.421875 43.28125 58.90625 \r\nQ 39.453125 66.40625 31.78125 66.40625 \r\nz\r\nM 31.78125 74.21875 \r\nQ 44.046875 74.21875 50.515625 64.515625 \r\nQ 56.984375 54.828125 56.984375 36.375 \r\nQ 56.984375 17.96875 50.515625 8.265625 \r\nQ 44.046875 -1.421875 31.78125 -1.421875 \r\nQ 19.53125 -1.421875 13.0625 8.265625 \r\nQ 6.59375 17.96875 6.59375 36.375 \r\nQ 6.59375 54.828125 13.0625 64.515625 \r\nQ 19.53125 74.21875 31.78125 74.21875 \r\nz\r\n\" id=\"DejaVuSans-48\"/>\r\n       </defs>\r\n       <use xlink:href=\"#DejaVuSans-48\"/>\r\n      </g>\r\n     </g>\r\n    </g>\r\n    <g id=\"xtick_2\">\r\n     <g id=\"line2d_2\">\r\n      <g>\r\n       <use style=\"stroke:#000000;stroke-width:0.8;\" x=\"115.188598\" xlink:href=\"#m521e1a2f8b\" y=\"235.238437\"/>\r\n      </g>\r\n     </g>\r\n     <g id=\"text_2\">\r\n      <!-- 20 -->\r\n      <g transform=\"translate(108.826098 249.836875)scale(0.1 -0.1)\">\r\n       <defs>\r\n        <path d=\"M 19.1875 8.296875 \r\nL 53.609375 8.296875 \r\nL 53.609375 0 \r\nL 7.328125 0 \r\nL 7.328125 8.296875 \r\nQ 12.9375 14.109375 22.625 23.890625 \r\nQ 32.328125 33.6875 34.8125 36.53125 \r\nQ 39.546875 41.84375 41.421875 45.53125 \r\nQ 43.3125 49.21875 43.3125 52.78125 \r\nQ 43.3125 58.59375 39.234375 62.25 \r\nQ 35.15625 65.921875 28.609375 65.921875 \r\nQ 23.96875 65.921875 18.8125 64.3125 \r\nQ 13.671875 62.703125 7.8125 59.421875 \r\nL 7.8125 69.390625 \r\nQ 13.765625 71.78125 18.9375 73 \r\nQ 24.125 74.21875 28.421875 74.21875 \r\nQ 39.75 74.21875 46.484375 68.546875 \r\nQ 53.21875 62.890625 53.21875 53.421875 \r\nQ 53.21875 48.921875 51.53125 44.890625 \r\nQ 49.859375 40.875 45.40625 35.40625 \r\nQ 44.1875 33.984375 37.640625 27.21875 \r\nQ 31.109375 20.453125 19.1875 8.296875 \r\nz\r\n\" id=\"DejaVuSans-50\"/>\r\n       </defs>\r\n       <use xlink:href=\"#DejaVuSans-50\"/>\r\n       <use x=\"63.623047\" xlink:href=\"#DejaVuSans-48\"/>\r\n      </g>\r\n     </g>\r\n    </g>\r\n    <g id=\"xtick_3\">\r\n     <g id=\"line2d_3\">\r\n      <g>\r\n       <use style=\"stroke:#000000;stroke-width:0.8;\" x=\"176.676201\" xlink:href=\"#m521e1a2f8b\" y=\"235.238437\"/>\r\n      </g>\r\n     </g>\r\n     <g id=\"text_3\">\r\n      <!-- 40 -->\r\n      <g transform=\"translate(170.313701 249.836875)scale(0.1 -0.1)\">\r\n       <defs>\r\n        <path d=\"M 37.796875 64.3125 \r\nL 12.890625 25.390625 \r\nL 37.796875 25.390625 \r\nz\r\nM 35.203125 72.90625 \r\nL 47.609375 72.90625 \r\nL 47.609375 25.390625 \r\nL 58.015625 25.390625 \r\nL 58.015625 17.1875 \r\nL 47.609375 17.1875 \r\nL 47.609375 0 \r\nL 37.796875 0 \r\nL 37.796875 17.1875 \r\nL 4.890625 17.1875 \r\nL 4.890625 26.703125 \r\nz\r\n\" id=\"DejaVuSans-52\"/>\r\n       </defs>\r\n       <use xlink:href=\"#DejaVuSans-52\"/>\r\n       <use x=\"63.623047\" xlink:href=\"#DejaVuSans-48\"/>\r\n      </g>\r\n     </g>\r\n    </g>\r\n    <g id=\"xtick_4\">\r\n     <g id=\"line2d_4\">\r\n      <g>\r\n       <use style=\"stroke:#000000;stroke-width:0.8;\" x=\"238.163804\" xlink:href=\"#m521e1a2f8b\" y=\"235.238437\"/>\r\n      </g>\r\n     </g>\r\n     <g id=\"text_4\">\r\n      <!-- 60 -->\r\n      <g transform=\"translate(231.801304 249.836875)scale(0.1 -0.1)\">\r\n       <defs>\r\n        <path d=\"M 33.015625 40.375 \r\nQ 26.375 40.375 22.484375 35.828125 \r\nQ 18.609375 31.296875 18.609375 23.390625 \r\nQ 18.609375 15.53125 22.484375 10.953125 \r\nQ 26.375 6.390625 33.015625 6.390625 \r\nQ 39.65625 6.390625 43.53125 10.953125 \r\nQ 47.40625 15.53125 47.40625 23.390625 \r\nQ 47.40625 31.296875 43.53125 35.828125 \r\nQ 39.65625 40.375 33.015625 40.375 \r\nz\r\nM 52.59375 71.296875 \r\nL 52.59375 62.3125 \r\nQ 48.875 64.0625 45.09375 64.984375 \r\nQ 41.3125 65.921875 37.59375 65.921875 \r\nQ 27.828125 65.921875 22.671875 59.328125 \r\nQ 17.53125 52.734375 16.796875 39.40625 \r\nQ 19.671875 43.65625 24.015625 45.921875 \r\nQ 28.375 48.1875 33.59375 48.1875 \r\nQ 44.578125 48.1875 50.953125 41.515625 \r\nQ 57.328125 34.859375 57.328125 23.390625 \r\nQ 57.328125 12.15625 50.6875 5.359375 \r\nQ 44.046875 -1.421875 33.015625 -1.421875 \r\nQ 20.359375 -1.421875 13.671875 8.265625 \r\nQ 6.984375 17.96875 6.984375 36.375 \r\nQ 6.984375 53.65625 15.1875 63.9375 \r\nQ 23.390625 74.21875 37.203125 74.21875 \r\nQ 40.921875 74.21875 44.703125 73.484375 \r\nQ 48.484375 72.75 52.59375 71.296875 \r\nz\r\n\" id=\"DejaVuSans-54\"/>\r\n       </defs>\r\n       <use xlink:href=\"#DejaVuSans-54\"/>\r\n       <use x=\"63.623047\" xlink:href=\"#DejaVuSans-48\"/>\r\n      </g>\r\n     </g>\r\n    </g>\r\n    <g id=\"xtick_5\">\r\n     <g id=\"line2d_5\">\r\n      <g>\r\n       <use style=\"stroke:#000000;stroke-width:0.8;\" x=\"299.651408\" xlink:href=\"#m521e1a2f8b\" y=\"235.238437\"/>\r\n      </g>\r\n     </g>\r\n     <g id=\"text_5\">\r\n      <!-- 80 -->\r\n      <g transform=\"translate(293.288908 249.836875)scale(0.1 -0.1)\">\r\n       <defs>\r\n        <path d=\"M 31.78125 34.625 \r\nQ 24.75 34.625 20.71875 30.859375 \r\nQ 16.703125 27.09375 16.703125 20.515625 \r\nQ 16.703125 13.921875 20.71875 10.15625 \r\nQ 24.75 6.390625 31.78125 6.390625 \r\nQ 38.8125 6.390625 42.859375 10.171875 \r\nQ 46.921875 13.96875 46.921875 20.515625 \r\nQ 46.921875 27.09375 42.890625 30.859375 \r\nQ 38.875 34.625 31.78125 34.625 \r\nz\r\nM 21.921875 38.8125 \r\nQ 15.578125 40.375 12.03125 44.71875 \r\nQ 8.5 49.078125 8.5 55.328125 \r\nQ 8.5 64.0625 14.71875 69.140625 \r\nQ 20.953125 74.21875 31.78125 74.21875 \r\nQ 42.671875 74.21875 48.875 69.140625 \r\nQ 55.078125 64.0625 55.078125 55.328125 \r\nQ 55.078125 49.078125 51.53125 44.71875 \r\nQ 48 40.375 41.703125 38.8125 \r\nQ 48.828125 37.15625 52.796875 32.3125 \r\nQ 56.78125 27.484375 56.78125 20.515625 \r\nQ 56.78125 9.90625 50.3125 4.234375 \r\nQ 43.84375 -1.421875 31.78125 -1.421875 \r\nQ 19.734375 -1.421875 13.25 4.234375 \r\nQ 6.78125 9.90625 6.78125 20.515625 \r\nQ 6.78125 27.484375 10.78125 32.3125 \r\nQ 14.796875 37.15625 21.921875 38.8125 \r\nz\r\nM 18.3125 54.390625 \r\nQ 18.3125 48.734375 21.84375 45.5625 \r\nQ 25.390625 42.390625 31.78125 42.390625 \r\nQ 38.140625 42.390625 41.71875 45.5625 \r\nQ 45.3125 48.734375 45.3125 54.390625 \r\nQ 45.3125 60.0625 41.71875 63.234375 \r\nQ 38.140625 66.40625 31.78125 66.40625 \r\nQ 25.390625 66.40625 21.84375 63.234375 \r\nQ 18.3125 60.0625 18.3125 54.390625 \r\nz\r\n\" id=\"DejaVuSans-56\"/>\r\n       </defs>\r\n       <use xlink:href=\"#DejaVuSans-56\"/>\r\n       <use x=\"63.623047\" xlink:href=\"#DejaVuSans-48\"/>\r\n      </g>\r\n     </g>\r\n    </g>\r\n    <g id=\"xtick_6\">\r\n     <g id=\"line2d_6\">\r\n      <g>\r\n       <use style=\"stroke:#000000;stroke-width:0.8;\" x=\"361.139011\" xlink:href=\"#m521e1a2f8b\" y=\"235.238437\"/>\r\n      </g>\r\n     </g>\r\n     <g id=\"text_6\">\r\n      <!-- 100 -->\r\n      <g transform=\"translate(351.595261 249.836875)scale(0.1 -0.1)\">\r\n       <defs>\r\n        <path d=\"M 12.40625 8.296875 \r\nL 28.515625 8.296875 \r\nL 28.515625 63.921875 \r\nL 10.984375 60.40625 \r\nL 10.984375 69.390625 \r\nL 28.421875 72.90625 \r\nL 38.28125 72.90625 \r\nL 38.28125 8.296875 \r\nL 54.390625 8.296875 \r\nL 54.390625 0 \r\nL 12.40625 0 \r\nz\r\n\" id=\"DejaVuSans-49\"/>\r\n       </defs>\r\n       <use xlink:href=\"#DejaVuSans-49\"/>\r\n       <use x=\"63.623047\" xlink:href=\"#DejaVuSans-48\"/>\r\n       <use x=\"127.246094\" xlink:href=\"#DejaVuSans-48\"/>\r\n      </g>\r\n     </g>\r\n    </g>\r\n   </g>\r\n   <g id=\"matplotlib.axis_2\">\r\n    <g id=\"ytick_1\">\r\n     <g id=\"line2d_7\">\r\n      <defs>\r\n       <path d=\"M 0 0 \r\nL -3.5 0 \r\n\" id=\"mf4fc310982\" style=\"stroke:#000000;stroke-width:0.8;\"/>\r\n      </defs>\r\n      <g>\r\n       <use style=\"stroke:#000000;stroke-width:0.8;\" x=\"38.482813\" xlink:href=\"#mf4fc310982\" y=\"206.444154\"/>\r\n      </g>\r\n     </g>\r\n     <g id=\"text_7\">\r\n      <!-- −3.2 -->\r\n      <g transform=\"translate(7.2 210.243373)scale(0.1 -0.1)\">\r\n       <defs>\r\n        <path d=\"M 10.59375 35.5 \r\nL 73.1875 35.5 \r\nL 73.1875 27.203125 \r\nL 10.59375 27.203125 \r\nz\r\n\" id=\"DejaVuSans-8722\"/>\r\n        <path d=\"M 40.578125 39.3125 \r\nQ 47.65625 37.796875 51.625 33 \r\nQ 55.609375 28.21875 55.609375 21.1875 \r\nQ 55.609375 10.40625 48.1875 4.484375 \r\nQ 40.765625 -1.421875 27.09375 -1.421875 \r\nQ 22.515625 -1.421875 17.65625 -0.515625 \r\nQ 12.796875 0.390625 7.625 2.203125 \r\nL 7.625 11.71875 \r\nQ 11.71875 9.328125 16.59375 8.109375 \r\nQ 21.484375 6.890625 26.8125 6.890625 \r\nQ 36.078125 6.890625 40.9375 10.546875 \r\nQ 45.796875 14.203125 45.796875 21.1875 \r\nQ 45.796875 27.640625 41.28125 31.265625 \r\nQ 36.765625 34.90625 28.71875 34.90625 \r\nL 20.21875 34.90625 \r\nL 20.21875 43.015625 \r\nL 29.109375 43.015625 \r\nQ 36.375 43.015625 40.234375 45.921875 \r\nQ 44.09375 48.828125 44.09375 54.296875 \r\nQ 44.09375 59.90625 40.109375 62.90625 \r\nQ 36.140625 65.921875 28.71875 65.921875 \r\nQ 24.65625 65.921875 20.015625 65.03125 \r\nQ 15.375 64.15625 9.8125 62.3125 \r\nL 9.8125 71.09375 \r\nQ 15.4375 72.65625 20.34375 73.4375 \r\nQ 25.25 74.21875 29.59375 74.21875 \r\nQ 40.828125 74.21875 47.359375 69.109375 \r\nQ 53.90625 64.015625 53.90625 55.328125 \r\nQ 53.90625 49.265625 50.4375 45.09375 \r\nQ 46.96875 40.921875 40.578125 39.3125 \r\nz\r\n\" id=\"DejaVuSans-51\"/>\r\n        <path d=\"M 10.6875 12.40625 \r\nL 21 12.40625 \r\nL 21 0 \r\nL 10.6875 0 \r\nz\r\n\" id=\"DejaVuSans-46\"/>\r\n       </defs>\r\n       <use xlink:href=\"#DejaVuSans-8722\"/>\r\n       <use x=\"83.789062\" xlink:href=\"#DejaVuSans-51\"/>\r\n       <use x=\"147.412109\" xlink:href=\"#DejaVuSans-46\"/>\r\n       <use x=\"179.199219\" xlink:href=\"#DejaVuSans-50\"/>\r\n      </g>\r\n     </g>\r\n    </g>\r\n    <g id=\"ytick_2\">\r\n     <g id=\"line2d_8\">\r\n      <g>\r\n       <use style=\"stroke:#000000;stroke-width:0.8;\" x=\"38.482813\" xlink:href=\"#mf4fc310982\" y=\"162.975461\"/>\r\n      </g>\r\n     </g>\r\n     <g id=\"text_8\">\r\n      <!-- −3.0 -->\r\n      <g transform=\"translate(7.2 166.77468)scale(0.1 -0.1)\">\r\n       <use xlink:href=\"#DejaVuSans-8722\"/>\r\n       <use x=\"83.789062\" xlink:href=\"#DejaVuSans-51\"/>\r\n       <use x=\"147.412109\" xlink:href=\"#DejaVuSans-46\"/>\r\n       <use x=\"179.199219\" xlink:href=\"#DejaVuSans-48\"/>\r\n      </g>\r\n     </g>\r\n    </g>\r\n    <g id=\"ytick_3\">\r\n     <g id=\"line2d_9\">\r\n      <g>\r\n       <use style=\"stroke:#000000;stroke-width:0.8;\" x=\"38.482813\" xlink:href=\"#mf4fc310982\" y=\"119.506769\"/>\r\n      </g>\r\n     </g>\r\n     <g id=\"text_9\">\r\n      <!-- −2.8 -->\r\n      <g transform=\"translate(7.2 123.305988)scale(0.1 -0.1)\">\r\n       <use xlink:href=\"#DejaVuSans-8722\"/>\r\n       <use x=\"83.789062\" xlink:href=\"#DejaVuSans-50\"/>\r\n       <use x=\"147.412109\" xlink:href=\"#DejaVuSans-46\"/>\r\n       <use x=\"179.199219\" xlink:href=\"#DejaVuSans-56\"/>\r\n      </g>\r\n     </g>\r\n    </g>\r\n    <g id=\"ytick_4\">\r\n     <g id=\"line2d_10\">\r\n      <g>\r\n       <use style=\"stroke:#000000;stroke-width:0.8;\" x=\"38.482813\" xlink:href=\"#mf4fc310982\" y=\"76.038076\"/>\r\n      </g>\r\n     </g>\r\n     <g id=\"text_10\">\r\n      <!-- −2.6 -->\r\n      <g transform=\"translate(7.2 79.837295)scale(0.1 -0.1)\">\r\n       <use xlink:href=\"#DejaVuSans-8722\"/>\r\n       <use x=\"83.789062\" xlink:href=\"#DejaVuSans-50\"/>\r\n       <use x=\"147.412109\" xlink:href=\"#DejaVuSans-46\"/>\r\n       <use x=\"179.199219\" xlink:href=\"#DejaVuSans-54\"/>\r\n      </g>\r\n     </g>\r\n    </g>\r\n    <g id=\"ytick_5\">\r\n     <g id=\"line2d_11\">\r\n      <g>\r\n       <use style=\"stroke:#000000;stroke-width:0.8;\" x=\"38.482813\" xlink:href=\"#mf4fc310982\" y=\"32.569384\"/>\r\n      </g>\r\n     </g>\r\n     <g id=\"text_11\">\r\n      <!-- −2.4 -->\r\n      <g transform=\"translate(7.2 36.368603)scale(0.1 -0.1)\">\r\n       <use xlink:href=\"#DejaVuSans-8722\"/>\r\n       <use x=\"83.789062\" xlink:href=\"#DejaVuSans-50\"/>\r\n       <use x=\"147.412109\" xlink:href=\"#DejaVuSans-46\"/>\r\n       <use x=\"179.199219\" xlink:href=\"#DejaVuSans-52\"/>\r\n      </g>\r\n     </g>\r\n    </g>\r\n    <g id=\"text_12\">\r\n     <!-- 1e−12−1.002435e−5 -->\r\n     <g transform=\"translate(38.482813 14.798437)scale(0.1 -0.1)\">\r\n      <defs>\r\n       <path d=\"M 56.203125 29.59375 \r\nL 56.203125 25.203125 \r\nL 14.890625 25.203125 \r\nQ 15.484375 15.921875 20.484375 11.0625 \r\nQ 25.484375 6.203125 34.421875 6.203125 \r\nQ 39.59375 6.203125 44.453125 7.46875 \r\nQ 49.3125 8.734375 54.109375 11.28125 \r\nL 54.109375 2.78125 \r\nQ 49.265625 0.734375 44.1875 -0.34375 \r\nQ 39.109375 -1.421875 33.890625 -1.421875 \r\nQ 20.796875 -1.421875 13.15625 6.1875 \r\nQ 5.515625 13.8125 5.515625 26.8125 \r\nQ 5.515625 40.234375 12.765625 48.109375 \r\nQ 20.015625 56 32.328125 56 \r\nQ 43.359375 56 49.78125 48.890625 \r\nQ 56.203125 41.796875 56.203125 29.59375 \r\nz\r\nM 47.21875 32.234375 \r\nQ 47.125 39.59375 43.09375 43.984375 \r\nQ 39.0625 48.390625 32.421875 48.390625 \r\nQ 24.90625 48.390625 20.390625 44.140625 \r\nQ 15.875 39.890625 15.1875 32.171875 \r\nz\r\n\" id=\"DejaVuSans-101\"/>\r\n       <path d=\"M 10.796875 72.90625 \r\nL 49.515625 72.90625 \r\nL 49.515625 64.59375 \r\nL 19.828125 64.59375 \r\nL 19.828125 46.734375 \r\nQ 21.96875 47.46875 24.109375 47.828125 \r\nQ 26.265625 48.1875 28.421875 48.1875 \r\nQ 40.625 48.1875 47.75 41.5 \r\nQ 54.890625 34.8125 54.890625 23.390625 \r\nQ 54.890625 11.625 47.5625 5.09375 \r\nQ 40.234375 -1.421875 26.90625 -1.421875 \r\nQ 22.3125 -1.421875 17.546875 -0.640625 \r\nQ 12.796875 0.140625 7.71875 1.703125 \r\nL 7.71875 11.625 \r\nQ 12.109375 9.234375 16.796875 8.0625 \r\nQ 21.484375 6.890625 26.703125 6.890625 \r\nQ 35.15625 6.890625 40.078125 11.328125 \r\nQ 45.015625 15.765625 45.015625 23.390625 \r\nQ 45.015625 31 40.078125 35.4375 \r\nQ 35.15625 39.890625 26.703125 39.890625 \r\nQ 22.75 39.890625 18.8125 39.015625 \r\nQ 14.890625 38.140625 10.796875 36.28125 \r\nz\r\n\" id=\"DejaVuSans-53\"/>\r\n      </defs>\r\n      <use xlink:href=\"#DejaVuSans-49\"/>\r\n      <use x=\"63.623047\" xlink:href=\"#DejaVuSans-101\"/>\r\n      <use x=\"125.146484\" xlink:href=\"#DejaVuSans-8722\"/>\r\n      <use x=\"208.935547\" xlink:href=\"#DejaVuSans-49\"/>\r\n      <use x=\"272.558594\" xlink:href=\"#DejaVuSans-50\"/>\r\n      <use x=\"336.181641\" xlink:href=\"#DejaVuSans-8722\"/>\r\n      <use x=\"419.970703\" xlink:href=\"#DejaVuSans-49\"/>\r\n      <use x=\"483.59375\" xlink:href=\"#DejaVuSans-46\"/>\r\n      <use x=\"515.380859\" xlink:href=\"#DejaVuSans-48\"/>\r\n      <use x=\"579.003906\" xlink:href=\"#DejaVuSans-48\"/>\r\n      <use x=\"642.626953\" xlink:href=\"#DejaVuSans-50\"/>\r\n      <use x=\"706.25\" xlink:href=\"#DejaVuSans-52\"/>\r\n      <use x=\"769.873047\" xlink:href=\"#DejaVuSans-51\"/>\r\n      <use x=\"833.496094\" xlink:href=\"#DejaVuSans-53\"/>\r\n      <use x=\"897.119141\" xlink:href=\"#DejaVuSans-101\"/>\r\n      <use x=\"958.642578\" xlink:href=\"#DejaVuSans-8722\"/>\r\n      <use x=\"1042.431641\" xlink:href=\"#DejaVuSans-53\"/>\r\n     </g>\r\n    </g>\r\n   </g>\r\n   <g id=\"line2d_12\">\r\n    <path clip-path=\"url(#pb6dc00caeb)\" d=\"M 53.700994 225.354801 \r\nL 56.775374 225.354801 \r\nL 59.849755 225.354801 \r\nL 62.924135 225.354801 \r\nL 65.998515 225.354801 \r\nL 69.072895 225.354801 \r\nL 72.147275 225.354801 \r\nL 75.221655 225.354801 \r\nL 78.296036 225.354801 \r\nL 81.370416 225.354801 \r\nL 84.444796 225.354801 \r\nL 87.519176 225.354801 \r\nL 90.593556 225.354801 \r\nL 93.667936 225.354801 \r\nL 96.742317 225.354801 \r\nL 99.816697 225.354801 \r\nL 102.891077 225.354801 \r\nL 105.965457 225.354801 \r\nL 109.039837 225.354801 \r\nL 112.114217 225.354801 \r\nL 115.188598 225.354801 \r\nL 118.262978 225.354801 \r\nL 121.337358 225.354801 \r\nL 124.411738 225.354801 \r\nL 127.486118 225.354801 \r\nL 130.560498 225.354801 \r\nL 133.634879 225.354801 \r\nL 136.709259 225.354801 \r\nL 139.783639 225.354801 \r\nL 142.858019 225.354801 \r\nL 145.932399 225.354801 \r\nL 149.006779 225.354801 \r\nL 152.08116 225.354801 \r\nL 155.15554 225.354801 \r\nL 158.22992 225.354801 \r\nL 161.3043 225.354801 \r\nL 164.37868 225.354801 \r\nL 167.45306 225.354801 \r\nL 170.527441 225.354801 \r\nL 173.601821 225.354801 \r\nL 176.676201 225.354801 \r\nL 179.750581 225.354801 \r\nL 182.824961 225.354801 \r\nL 185.899341 225.354801 \r\nL 188.973722 225.354801 \r\nL 192.048102 225.354801 \r\nL 195.122482 225.354801 \r\nL 198.196862 225.354801 \r\nL 201.271242 225.354801 \r\nL 204.345622 225.354801 \r\nL 207.420003 225.354801 \r\nL 210.494383 225.354801 \r\nL 213.568763 225.354801 \r\nL 216.643143 27.682074 \r\nL 219.717523 27.682074 \r\nL 222.791903 27.682074 \r\nL 225.866284 27.682074 \r\nL 228.940664 27.682074 \r\nL 232.015044 225.354801 \r\nL 235.089424 225.354801 \r\nL 238.163804 225.354801 \r\nL 241.238184 225.354801 \r\nL 244.312565 225.354801 \r\nL 247.386945 225.354801 \r\nL 250.461325 225.354801 \r\nL 253.535705 225.354801 \r\nL 256.610085 225.354801 \r\nL 259.684465 225.354801 \r\nL 262.758846 225.354801 \r\nL 265.833226 27.682074 \r\nL 268.907606 27.682074 \r\nL 271.981986 27.682074 \r\nL 275.056366 27.682074 \r\nL 278.130746 27.682074 \r\nL 281.205127 27.682074 \r\nL 284.279507 27.682074 \r\nL 287.353887 27.682074 \r\nL 290.428267 27.682074 \r\nL 293.502647 27.682074 \r\nL 296.577027 27.682074 \r\nL 299.651408 225.354801 \r\nL 302.725788 225.354801 \r\nL 305.800168 225.354801 \r\nL 308.874548 225.354801 \r\nL 311.948928 225.354801 \r\nL 315.023308 225.354801 \r\nL 318.097689 225.354801 \r\nL 321.172069 225.354801 \r\nL 324.246449 27.682074 \r\nL 327.320829 27.682074 \r\nL 330.395209 27.682074 \r\nL 333.469589 27.682074 \r\nL 336.54397 27.682074 \r\nL 339.61835 27.682074 \r\nL 342.69273 27.682074 \r\nL 345.76711 27.682074 \r\nL 348.84149 27.682074 \r\nL 351.91587 27.682074 \r\nL 354.990251 27.682074 \r\nL 358.064631 27.682074 \r\n\" style=\"fill:none;stroke:#1f77b4;stroke-linecap:square;stroke-width:1.5;\"/>\r\n   </g>\r\n   <g id=\"patch_3\">\r\n    <path d=\"M 38.482813 235.238437 \r\nL 38.482813 17.798437 \r\n\" style=\"fill:none;stroke:#000000;stroke-linecap:square;stroke-linejoin:miter;stroke-width:0.8;\"/>\r\n   </g>\r\n   <g id=\"patch_4\">\r\n    <path d=\"M 373.282813 235.238437 \r\nL 373.282813 17.798437 \r\n\" style=\"fill:none;stroke:#000000;stroke-linecap:square;stroke-linejoin:miter;stroke-width:0.8;\"/>\r\n   </g>\r\n   <g id=\"patch_5\">\r\n    <path d=\"M 38.482813 235.238437 \r\nL 373.282812 235.238437 \r\n\" style=\"fill:none;stroke:#000000;stroke-linecap:square;stroke-linejoin:miter;stroke-width:0.8;\"/>\r\n   </g>\r\n   <g id=\"patch_6\">\r\n    <path d=\"M 38.482813 17.798437 \r\nL 373.282812 17.798437 \r\n\" style=\"fill:none;stroke:#000000;stroke-linecap:square;stroke-linejoin:miter;stroke-width:0.8;\"/>\r\n   </g>\r\n  </g>\r\n </g>\r\n <defs>\r\n  <clipPath id=\"pb6dc00caeb\">\r\n   <rect height=\"217.44\" width=\"334.8\" x=\"38.482813\" y=\"17.798437\"/>\r\n  </clipPath>\r\n </defs>\r\n</svg>\r\n",
      "image/png": "[encoded data removed]"
     },
     "metadata": {
      "needs_background": "light"
     }
    }
   ],
   "source": [
    "layers = create_layers()\n",
    "costs = []\n",
    "\n",
    "for i in range(1000):\n",
    "    cost = training_step(x_train, y_train, layers, learning_rate)\n",
    "    if i%10 == 0:\n",
    "        costs.append(cost)\n",
    "        print('Epoch {0}: {1}'.format(i+1, cost))\n",
    "\n",
    "plt.plot(costs)\n",
    "plt.show()"
   ]
  },
  {
   "cell_type": "code",
   "execution_count": null,
   "metadata": {},
   "outputs": [],
   "source": []
  }
 ]
}