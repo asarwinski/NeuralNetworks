{
  "nbformat": 4,
  "nbformat_minor": 0,
  "metadata": {
    "colab": {
      "name": "FaceDetection.ipynb",
      "provenance": [],
      "collapsed_sections": [],
      "authorship_tag": "ABX9TyNrbdCP5Wq5bJy7KQchq1eQ",
      "include_colab_link": true
    },
    "kernelspec": {
      "name": "python3",
      "display_name": "Python 3"
    },
    "language_info": {
      "name": "python"
    }
  },
  "cells": [
    {
      "cell_type": "markdown",
      "metadata": {
        "id": "view-in-github",
        "colab_type": "text"
      },
      "source": [
        "<a href=\"https://colab.research.google.com/github/asarwinski/NeuralNetworks/blob/master/FaceDetection/main.ipynb\" target=\"_parent\"><img src=\"https://colab.research.google.com/assets/colab-badge.svg\" alt=\"Open In Colab\"/></a>"
      ]
    },
    {
      "cell_type": "code",
      "metadata": {
        "id": "NiuxwLTLxNNn"
      },
      "source": [
        "import numpy as np"
      ],
      "execution_count": null,
      "outputs": []
    },
    {
      "cell_type": "code",
      "metadata": {
        "id": "dbKctWcPxPZj"
      },
      "source": [
        "def xyz_to_pfz(vector):\n",
        "  x = vector[0]\n",
        "  y = vector[1]\n",
        "  z = vector[2]\n",
        "\n",
        "  p = np.sqrt(x**2 + y**2)\n",
        "  f = np.arctan(y/x)\n",
        "  z = z\n",
        "\n",
        "  return [p,f,z]"
      ],
      "execution_count": null,
      "outputs": []
    },
    {
      "cell_type": "code",
      "metadata": {
        "id": "B2yF_YXDx3u8"
      },
      "source": [
        "def pfz_to_xyz(vector):\n",
        "  p = vector[0]\n",
        "  f = vector[1]\n",
        "  z = vector[2]\n",
        "\n",
        "  x = p * np.cos(f)\n",
        "  y = p * np.sin(f)\n",
        "  z = z\n",
        "\n",
        "  return [x,y,z]"
      ],
      "execution_count": null,
      "outputs": []
    },
    {
      "cell_type": "code",
      "metadata": {
        "id": "d5Cyp2DuyTA7"
      },
      "source": [
        "v1_xyz = [3,4,5]\n",
        "v2_xyz = [1,8,-3]\n",
        "\n",
        "v1_pfz = xyz_to_pfz(v1_xyz)\n",
        "v2_pfz = xyz_to_pfz(v2_xyz)"
      ],
      "execution_count": null,
      "outputs": []
    },
    {
      "cell_type": "code",
      "metadata": {
        "colab": {
          "base_uri": "https://localhost:8080/"
        },
        "id": "4TDJoYiNyi7k",
        "outputId": "044a2b99-5e78-4e4f-b88c-535a03c6ac2f"
      },
      "source": [
        "print(v1_pfz)\n",
        "print(v2_pfz)"
      ],
      "execution_count": null,
      "outputs": [
        {
          "output_type": "stream",
          "text": [
            "[5.0, 0.9272952180016122, 5]\n",
            "[8.06225774829855, 1.446441332248135, -3]\n"
          ],
          "name": "stdout"
        }
      ]
    },
    {
      "cell_type": "code",
      "metadata": {
        "id": "xtfnwCRQymc7"
      },
      "source": [
        "v3_xyz = np.add(v1_xyz,v2_xyz)\n",
        "v3_pfz = np.add(v1_pfz,v2_pfz)"
      ],
      "execution_count": null,
      "outputs": []
    },
    {
      "cell_type": "code",
      "metadata": {
        "colab": {
          "base_uri": "https://localhost:8080/"
        },
        "id": "PnPfZM8Jy1FS",
        "outputId": "9422f314-7e62-46cc-bf45-43c0c826b4bd"
      },
      "source": [
        "print(xyz_to_pfz(v3_xyz))\n",
        "print((v1_pfz[1] + v2_pfz[1])/2)"
      ],
      "execution_count": null,
      "outputs": [
        {
          "output_type": "stream",
          "text": [
            "[12.649110640673518, 1.2490457723982544, 2]\n",
            "1.1868682751248736\n"
          ],
          "name": "stdout"
        }
      ]
    },
    {
      "cell_type": "code",
      "metadata": {
        "id": "FL_hcQAjy68b"
      },
      "source": [
        ""
      ],
      "execution_count": null,
      "outputs": []
    }
  ]
}